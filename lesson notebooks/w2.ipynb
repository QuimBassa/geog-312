{
 "cells": [
  {
   "cell_type": "markdown",
   "id": "f5374afd-9179-40c5-9953-48fa927e2741",
   "metadata": {},
   "source": [
    "# Python variables and data types"
   ]
  },
  {
   "cell_type": "code",
   "execution_count": null,
   "id": "cf51bb37-fd02-40c5-a1bc-334a45eaf026",
   "metadata": {},
   "outputs": [],
   "source": []
  }
 ],
 "metadata": {
  "kernelspec": {
   "display_name": "Python 3 (ipykernel)",
   "language": "python",
   "name": "python3"
  },
  "language_info": {
   "codemirror_mode": {
    "name": "ipython",
    "version": 3
   },
   "file_extension": ".py",
   "mimetype": "text/x-python",
   "name": "python",
   "nbconvert_exporter": "python",
   "pygments_lexer": "ipython3",
   "version": "3.12.5"
  }
 },
 "nbformat": 4,
 "nbformat_minor": 5
}
